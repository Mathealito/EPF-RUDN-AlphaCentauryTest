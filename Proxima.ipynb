{
 "cells": [
  {
   "cell_type": "code",
   "execution_count": 4,
   "metadata": {},
   "outputs": [],
   "source": [
    "import arcpy\n",
    "\n",
    "arcpy.env.overwriteOutput = True"
   ]
  },
  {
   "cell_type": "code",
   "execution_count": 5,
   "metadata": {},
   "outputs": [],
   "source": [
    "output_folder = \"C:/EsriTraining/\"\n",
    "output_gdb = \"AlphaCentauryB.gdb\"\n",
    "\n",
    "out_gdb = output_folder + output_gdb\n",
    "arcpy.env.workspace = out_gdb"
   ]
  },
  {
   "cell_type": "code",
   "execution_count": 6,
   "metadata": {},
   "outputs": [],
   "source": [
    "if not arcpy.Exists(out_gdb):\n",
    "    arcpy.CreateFileGDB_management(output_folder, output_gdb)"
   ]
  },
  {
   "cell_type": "code",
   "execution_count": 129,
   "metadata": {},
   "outputs": [
    {
     "name": "stdout",
     "output_type": "stream",
     "text": [
      "['Temperatures', 'Precipitations', 'Radiations']\n"
     ]
    }
   ],
   "source": [
    "rasters = arcpy.ListRasters()\n",
    "print(rasters)"
   ]
  },
  {
   "cell_type": "code",
   "execution_count": 134,
   "metadata": {},
   "outputs": [
    {
     "name": "stdout",
     "output_type": "stream",
     "text": [
      "Enter the value for the minimum temperature. Between -64.51473999023438 and 2.6605117321014404   : -30\n",
      "Enter the weight of Temperature, Precipitations, Radiations. These numbers must be beetween 0 and 1 with their sum equals to 1\n",
      "Enter the weight of Temperature : 0.6\n",
      "Enter the weight of Precipitations : 0.1\n",
      "Enter the weight of Radiations : 0.3\n",
      "Calculation duration : 46.73843026161194\n"
     ]
    }
   ],
   "source": [
    "import time\n",
    "\n",
    "def Calculation (tMin, tCoef, rCoef, pCoef):\n",
    "    \n",
    "    timed = time.time()\n",
    "    arcpy.management.Delete('tNorm')\n",
    "    arcpy.management.Delete('pNorm')\n",
    "    arcpy.management.Delete('rNorm')\n",
    "    arcpy.management.Delete('Final')\n",
    "    arcpy.management.Delete('Final80')\n",
    "\n",
    "    \n",
    "    \n",
    "    \n",
    "    \n",
    "    tRast = arcpy.Raster(\"Temperatures\")\n",
    "    tBottom = tMin\n",
    "    tMid = 0\n",
    "    tTop = tRast.maximum\n",
    "\n",
    "    tNormD = (tRast - tBottom) / (tMid - tBottom) * 60\n",
    "    tNormU = (tRast - tMid) / (tTop - tMid) * 40\n",
    "    tNormS = tNormD + tNormU\n",
    "\n",
    "    tNormR = arcpy.sa.Con(tNormS, 100, tNormS, \"VALUE > 100\")\n",
    "    tNormR2 = arcpy.sa.Con(tNormR, 0, tNormR, \"VALUE <0\")\n",
    "\n",
    "    tNormR2.save(\"tNorm\")\n",
    "\n",
    "\n",
    "\n",
    "    \n",
    "    \n",
    "    pRast = arcpy.Raster(\"Precipitations\")\n",
    "    pBottom = pRast.minimum\n",
    "    pTop = pRast.maximum\n",
    "\n",
    "    pNorm = (pRast - pBottom) / (pTop - pBottom) * 100\n",
    "\n",
    "    pNorm.save(\"pNorm\")\n",
    "\n",
    "\n",
    "    \n",
    "    \n",
    "    \n",
    "    rRast = arcpy.Raster(\"Radiations\")\n",
    "    rBottom = rRast.minimum\n",
    "    rTop = rRast.maximum\n",
    "    rMid = (rBottom + rTop)/2\n",
    "\n",
    "    rNorm = ((rRast - rBottom)/(rTop - rBottom)*100)-50\n",
    "\n",
    "    rNormR = arcpy.sa.Con(rNorm, (rNorm*(-1)+50)-1000, rNorm, \"VALUE >=25\")\n",
    "    rNormR2 = arcpy.sa.Con(rNormR, (rNormR*(-1)*3+100)-500, rNormR, \"VALUE >=0\")\n",
    "    rNormR3 = arcpy.sa.Con(rNormR2, ((rNormR2*3)+100)-500, rNormR2, \"VALUE >=-25\")\n",
    "    rNormR4 = arcpy.sa.Con(rNormR3, (rNormR3 +50)-1000, rNormR3, \"VALUE >=-50\")\n",
    "    rNormR5 = arcpy.sa.Con(rNormR4, rNormR4+500, rNormR4, \"VALUE >-500\")\n",
    "    rNormR6 = arcpy.sa.Con(rNormR5, rNormR5+1000, rNormR5, \"VALUE <-500\")\n",
    "    rNormR6.save(\"rNorm\")\n",
    "\n",
    "    \n",
    "    \n",
    "    \n",
    "    finalmap = (tNormR2*tCoef + pNorm*pCoef + rNormR6*rCoef)\n",
    "    finalmap.save(\"Final\")\n",
    "\n",
    "    finalmapNorm = arcpy.sa.Con(finalmap, finalmap/4, finalmap, \"VALUE < 80\")\n",
    "    finalmapNorm.save(\"Final80\")\n",
    "\n",
    "    \n",
    "    \n",
    "    \n",
    "\n",
    "    ftime = time.time()\n",
    "    temps = ftime - timed\n",
    "    print(\"Calculation duration : \"+str(temps))\n",
    "    \n",
    "    \n",
    "    \n",
    "\n",
    "def Verification():\n",
    "    tRast = arcpy.Raster(\"Temperatures\")\n",
    "    tmin = tRast.minimum\n",
    "    tmax = tRast.maximum\n",
    "    tMin = input(\"Enter the value for the minimum temperature. Between \"+str(tmin)+\" and \"+str(tmax)+\"   : \")\n",
    "    tMin = float(tMin)\n",
    "    while not(tMin>tmin and tMin<tmax):\n",
    "        tMin = input(\"Incorrect value. Between \"+str(tmin)+\" and \"+str(tmax)+\" : \")\n",
    "        tMin = float(tMin)\n",
    "    print(\"Enter the weight of Temperature, Precipitations, Radiations. These numbers must be beetween 0 and 1 with their sum equals to 1\")\n",
    "    tCoef = input(\"Enter the weight of Temperature : \")\n",
    "    pCoef = input(\"Enter the weight of Precipitations : \")\n",
    "    rCoef = input(\"Enter the weight of Radiations : \")\n",
    "    tCoef = float(tCoef)\n",
    "    pCoef = float(pCoef)\n",
    "    rCoef = float(rCoef)\n",
    "    sCoef = tCoef+pCoef+rCoef\n",
    "    while not(sCoef==1 or (sCoef>0.99 and sCoef<=1)):\n",
    "        print(\"Sum of weight equals : \"+str(sCoef)+\" it must be 1\")\n",
    "        tCoef = input(\"Enter the weight of Temperature : \")\n",
    "        pCoef = input(\"Enter the weight of Precipitations : \")\n",
    "        rCoef = input(\"Enter the weight of Radiations : \")\n",
    "        tCoef = float(tCoef)\n",
    "        pCoef = float(pCoef)\n",
    "        rCoef = float(rCoef)\n",
    "        sCoef = tCoef+pCoef+rCoef\n",
    "    Calculation(tMin, tCoef, pCoef, rCoef)\n",
    "        \n",
    "        \n",
    "Verification() #Default Values :   -20   :   0.5   :   0.2   :   0.3"
   ]
  }
 ],
 "metadata": {
  "kernelspec": {
   "display_name": "Python 3",
   "language": "python",
   "name": "python3"
  },
  "language_info": {
   "codemirror_mode": {
    "name": "ipython",
    "version": 3
   },
   "file_extension": ".py",
   "mimetype": "text/x-python",
   "name": "python",
   "nbconvert_exporter": "python",
   "pygments_lexer": "ipython3",
   "version": "3.7.9"
  }
 },
 "nbformat": 4,
 "nbformat_minor": 4
}
